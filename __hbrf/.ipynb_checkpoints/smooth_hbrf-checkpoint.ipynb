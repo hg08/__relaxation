{
 "cells": [
  {
   "cell_type": "code",
   "execution_count": 16,
   "metadata": {},
   "outputs": [
    {
     "name": "stdout",
     "output_type": "stream",
     "text": [
      "[3.3333333333333335, 5.0, 6.0, 3.0, 3.0, 3.6666666666666665]\n"
     ]
    }
   ],
   "source": [
    "import random\n",
    "\n",
    "random.seed(1)\n",
    "\n",
    "def moving_window_average(x, n_neighbors=1):\n",
    "    n = len(x)\n",
    "    width = n_neighbors*2 + 1\n",
    "    x = [x[0]]*n_neighbors + x + [x[-1]]*n_neighbors\n",
    "    # 为完成该函数:\n",
    "    # 返回一个列表, 该列表的元素为从x[i]到 x[i+width]的平均值, i的取值为从0到n-1.\n",
    "    li = []\n",
    "    for i in range(n):\n",
    "        mean = 0\n",
    "        for j in range(width):\n",
    "            mean += x[i+j]\n",
    "        mean = mean/width\n",
    "        li.append(mean)\n",
    "    return li    \n",
    "        \n",
    "x=[0,10,5,3,1,5]\n",
    "print(moving_window_average(x, 1))"
   ]
  },
  {
   "cell_type": "code",
   "execution_count": 17,
   "metadata": {},
   "outputs": [],
   "source": [
    "import numpy as np\n",
    "import pandas as pd\n",
    "import matplotlib.pyplot as plt"
   ]
  },
  {
   "cell_type": "markdown",
   "metadata": {},
   "source": [
    "Use awk command, create csv files from .dat files."
   ]
  },
  {
   "cell_type": "code",
   "execution_count": 21,
   "metadata": {},
   "outputs": [],
   "source": [
    "df_124_2LiI_rf = pd.read_csv('124_2LiI_PBC_ns20_rf.csv', names=['t','rf'])"
   ]
  },
  {
   "cell_type": "code",
   "execution_count": 22,
   "metadata": {},
   "outputs": [
    {
     "data": {
      "text/html": [
       "<div>\n",
       "<style scoped>\n",
       "    .dataframe tbody tr th:only-of-type {\n",
       "        vertical-align: middle;\n",
       "    }\n",
       "\n",
       "    .dataframe tbody tr th {\n",
       "        vertical-align: top;\n",
       "    }\n",
       "\n",
       "    .dataframe thead th {\n",
       "        text-align: right;\n",
       "    }\n",
       "</style>\n",
       "<table border=\"1\" class=\"dataframe\">\n",
       "  <thead>\n",
       "    <tr style=\"text-align: right;\">\n",
       "      <th></th>\n",
       "      <th>t</th>\n",
       "      <th>rf</th>\n",
       "    </tr>\n",
       "  </thead>\n",
       "  <tbody>\n",
       "    <tr>\n",
       "      <td>0</td>\n",
       "      <td>0.00</td>\n",
       "      <td>20.633646</td>\n",
       "    </tr>\n",
       "    <tr>\n",
       "      <td>1</td>\n",
       "      <td>0.01</td>\n",
       "      <td>9.024656</td>\n",
       "    </tr>\n",
       "    <tr>\n",
       "      <td>2</td>\n",
       "      <td>0.02</td>\n",
       "      <td>5.150496</td>\n",
       "    </tr>\n",
       "    <tr>\n",
       "      <td>3</td>\n",
       "      <td>0.03</td>\n",
       "      <td>1.993193</td>\n",
       "    </tr>\n",
       "    <tr>\n",
       "      <td>4</td>\n",
       "      <td>0.04</td>\n",
       "      <td>1.527279</td>\n",
       "    </tr>\n",
       "  </tbody>\n",
       "</table>\n",
       "</div>"
      ],
      "text/plain": [
       "      t         rf\n",
       "0  0.00  20.633646\n",
       "1  0.01   9.024656\n",
       "2  0.02   5.150496\n",
       "3  0.03   1.993193\n",
       "4  0.04   1.527279"
      ]
     },
     "execution_count": 22,
     "metadata": {},
     "output_type": "execute_result"
    }
   ],
   "source": [
    "df_124_2LiI_rf.head()"
   ]
  },
  {
   "cell_type": "code",
   "execution_count": 34,
   "metadata": {},
   "outputs": [
    {
     "name": "stderr",
     "output_type": "stream",
     "text": [
      "/home/gang/.gangprograms/conda/lib/python3.7/site-packages/ipykernel_launcher.py:5: RuntimeWarning: invalid value encountered in log\n",
      "  \"\"\"\n"
     ]
    },
    {
     "data": {
      "text/plain": [
       "array([ 2.72229611,  2.44122704,  2.03677591, ..., -2.80153776,\n",
       "       -2.66826358, -2.52332616])"
      ]
     },
     "execution_count": 34,
     "metadata": {},
     "output_type": "execute_result"
    }
   ],
   "source": [
    "df_rf = moving_window_average(df_124_2LiI_rf.rf.tolist(), 2)\n",
    "t = df_124_2LiI_rf.t.tolist()\n",
    "arr_df_rf = np.array(df_rf)\n",
    "arr_df_rf\n",
    "log_rf = np.log(arr_df_rf)\n",
    "log_rf"
   ]
  },
  {
   "cell_type": "code",
   "execution_count": 35,
   "metadata": {},
   "outputs": [],
   "source": [
    "#print(\"l6\")\n",
    "#for i in range(4):\n",
    "#    print(np.array(rf_l6[20*i:20*(i+1)]).mean())"
   ]
  },
  {
   "cell_type": "code",
   "execution_count": 36,
   "metadata": {},
   "outputs": [
    {
     "data": {
      "image/png": "[encoded data removed]",
      "text/plain": [
       "<Figure size 432x288 with 1 Axes>"
      ]
     },
     "metadata": {
      "needs_background": "light"
     },
     "output_type": "display_data"
    }
   ],
   "source": [
    "plt.plot(t, log_rf)\n",
    "plt.show()"
   ]
  },
  {
   "cell_type": "code",
   "execution_count": 37,
   "metadata": {},
   "outputs": [],
   "source": [
    "file=open('124_2LiI_PBC_ns20_log_rf.dat','w')\n",
    "n = len(t)\n",
    "for i in range(n):\n",
    "    file.write(str(t[i]) + ' ' + str(log_rf[i]) + '\\n');\n",
    "file.close()\n",
    "file=open('124_2LiI_PBC_ns20_log_rf.csv','w')\n",
    "n = len(t)\n",
    "for i in range(n):\n",
    "    file.write(str(t[i]) + ', ' + str(log_rf[i]) + '\\n');\n",
    "file.close()"
   ]
  },
  {
   "cell_type": "code",
   "execution_count": null,
   "metadata": {},
   "outputs": [],
   "source": []
  }
 ],
 "metadata": {
  "kernelspec": {
   "display_name": "Python 3",
   "language": "python",
   "name": "python3"
  },
  "language_info": {
   "codemirror_mode": {
    "name": "ipython",
    "version": 3
   },
   "file_extension": ".py",
   "mimetype": "text/x-python",
   "name": "python",
   "nbconvert_exporter": "python",
   "pygments_lexer": "ipython3",
   "version": "3.7.4"
  }
 },
 "nbformat": 4,
 "nbformat_minor": 2
}
