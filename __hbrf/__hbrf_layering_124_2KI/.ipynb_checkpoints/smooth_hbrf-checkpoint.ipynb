{
 "cells": [
  {
   "cell_type": "code",
   "execution_count": 1,
   "metadata": {},
   "outputs": [
    {
     "name": "stdout",
     "output_type": "stream",
     "text": [
      "[3.3333333333333335, 5.0, 6.0, 3.0, 3.0, 3.6666666666666665]\n"
     ]
    }
   ],
   "source": [
    "import random\n",
    "\n",
    "random.seed(1)\n",
    "\n",
    "def moving_window_average(x, n_neighbors=1):\n",
    "    n = len(x)\n",
    "    width = n_neighbors*2 + 1\n",
    "    x = [x[0]]*n_neighbors + x + [x[-1]]*n_neighbors\n",
    "    # 为完成该函数:\n",
    "    # 返回一个列表, 该列表的元素为从x[i]到 x[i+width]的平均值, i的取值为从0到n-1.\n",
    "    li = []\n",
    "    for i in range(n):\n",
    "        mean = 0\n",
    "        for j in range(width):\n",
    "            mean += x[i+j]\n",
    "        mean = mean/width\n",
    "        li.append(mean)\n",
    "    return li    \n",
    "        \n",
    "x=[0,10,5,3,1,5]\n",
    "print(moving_window_average(x, 1))"
   ]
  },
  {
   "cell_type": "code",
   "execution_count": 2,
   "metadata": {},
   "outputs": [],
   "source": [
    "import numpy as np\n",
    "import pandas as pd\n",
    "import matplotlib.pyplot as plt"
   ]
  },
  {
   "cell_type": "markdown",
   "metadata": {},
   "source": [
    "Use awk command, create csv files from .dat files."
   ]
  },
  {
   "cell_type": "code",
   "execution_count": 3,
   "metadata": {},
   "outputs": [],
   "source": [
    "df_l10 = pd.read_csv('124_2KI_salty_l10_rfachb_h_17.csv', names=['t','rf'])\n",
    "df_l9 = pd.read_csv('124_2KI_salty_l9_rfachb_h_17.csv', names=['t','rf'])\n",
    "df_l8 = pd.read_csv('124_2KI_salty_l8_rfachb_h_17.csv', names=['t','rf'])\n",
    "df_l7 = pd.read_csv('124_2KI_salty_l7_rfachb_h_17.csv', names=['t','rf'])\n",
    "df_l6 = pd.read_csv('124_2KI_salty_l6_rfachb_h_17.csv', names=['t','rf'])\n",
    "df_l5 = pd.read_csv('124_2KI_salty_l5_rfachb_h_17.csv', names=['t','rf'])"
   ]
  },
  {
   "cell_type": "code",
   "execution_count": 4,
   "metadata": {},
   "outputs": [
    {
     "data": {
      "text/html": [
       "<div>\n",
       "<style scoped>\n",
       "    .dataframe tbody tr th:only-of-type {\n",
       "        vertical-align: middle;\n",
       "    }\n",
       "\n",
       "    .dataframe tbody tr th {\n",
       "        vertical-align: top;\n",
       "    }\n",
       "\n",
       "    .dataframe thead th {\n",
       "        text-align: right;\n",
       "    }\n",
       "</style>\n",
       "<table border=\"1\" class=\"dataframe\">\n",
       "  <thead>\n",
       "    <tr style=\"text-align: right;\">\n",
       "      <th></th>\n",
       "      <th>t</th>\n",
       "      <th>rf</th>\n",
       "    </tr>\n",
       "  </thead>\n",
       "  <tbody>\n",
       "    <tr>\n",
       "      <td>0</td>\n",
       "      <td>0.0</td>\n",
       "      <td>0.273207</td>\n",
       "    </tr>\n",
       "    <tr>\n",
       "      <td>1</td>\n",
       "      <td>0.1</td>\n",
       "      <td>0.082128</td>\n",
       "    </tr>\n",
       "    <tr>\n",
       "      <td>2</td>\n",
       "      <td>0.2</td>\n",
       "      <td>0.046787</td>\n",
       "    </tr>\n",
       "    <tr>\n",
       "      <td>3</td>\n",
       "      <td>0.3</td>\n",
       "      <td>0.056391</td>\n",
       "    </tr>\n",
       "    <tr>\n",
       "      <td>4</td>\n",
       "      <td>0.4</td>\n",
       "      <td>0.039771</td>\n",
       "    </tr>\n",
       "  </tbody>\n",
       "</table>\n",
       "</div>"
      ],
      "text/plain": [
       "     t        rf\n",
       "0  0.0  0.273207\n",
       "1  0.1  0.082128\n",
       "2  0.2  0.046787\n",
       "3  0.3  0.056391\n",
       "4  0.4  0.039771"
      ]
     },
     "execution_count": 4,
     "metadata": {},
     "output_type": "execute_result"
    }
   ],
   "source": [
    "df_l10.head()"
   ]
  },
  {
   "cell_type": "code",
   "execution_count": 5,
   "metadata": {},
   "outputs": [],
   "source": [
    "rf_l10 = moving_window_average(df_l10.rf.tolist(), 1)\n",
    "rf_l9 = moving_window_average(df_l9.rf.tolist(), 1)\n",
    "rf_l8 = moving_window_average(df_l8.rf.tolist(), 1)\n",
    "rf_l7 = moving_window_average(df_l7.rf.tolist(), 1)\n",
    "rf_l6 = moving_window_average(df_l6.rf.tolist(), 1)\n",
    "rf_l5 = moving_window_average(df_l5.rf.tolist(), 1)\n",
    "t = df_l10.t.tolist()"
   ]
  },
  {
   "cell_type": "code",
   "execution_count": 6,
   "metadata": {},
   "outputs": [
    {
     "name": "stdout",
     "output_type": "stream",
     "text": [
      "l6\n",
      "0.06946187450726052\n",
      "0.02693796732318769\n",
      "0.0226362413505\n",
      "0.027649679434000006\n",
      "l7\n",
      "0.06732163682\n",
      "0.020474472500166666\n",
      "0.019066385481000002\n",
      "0.019758416055703002\n",
      "l8\n",
      "0.04958111848833333\n",
      "0.018901447658166665\n",
      "0.0163676055565\n",
      "0.013333361592666668\n",
      "l9\n",
      "0.04762739825666667\n",
      "0.018781101032666666\n",
      "0.014547881754666665\n",
      "0.01326220806816667\n",
      "l10\n",
      "0.04453600978166666\n",
      "0.016961609253666667\n",
      "0.012947422963166666\n",
      "0.0128950551005\n"
     ]
    }
   ],
   "source": [
    "print(\"l6\")\n",
    "for i in range(4):\n",
    "    print(np.array(rf_l6[20*i:20*(i+1)]).mean())\n",
    "print(\"l7\")\n",
    "for i in range(4):\n",
    "    print(np.array(rf_l7[20*i:20*(i+1)]).mean())\n",
    "    \n",
    "print(\"l8\")\n",
    "for i in range(4):\n",
    "    print(np.array(rf_l8[20*i:20*(i+1)]).mean())\n",
    "print(\"l9\")\n",
    "for i in range(4):\n",
    "    print(np.array(rf_l9[20*i:20*(i+1)]).mean())\n",
    "print(\"l10\")\n",
    "for i in range(4):\n",
    "    print(np.array(rf_l10[20*i:20*(i+1)]).mean())"
   ]
  },
  {
   "cell_type": "code",
   "execution_count": 7,
   "metadata": {},
   "outputs": [
    {
     "data": {
      "image/png": "[encoded data removed]",
      "text/plain": [
       "<Figure size 432x288 with 1 Axes>"
      ]
     },
     "metadata": {
      "needs_background": "light"
     },
     "output_type": "display_data"
    }
   ],
   "source": [
    "plt.plot(t, rf_l8)\n",
    "plt.plot(t,rf_l7)\n",
    "plt.plot(t, rf_l6)\n",
    "plt.plot(t,rf_l5)\n",
    "plt.show()"
   ]
  },
  {
   "cell_type": "code",
   "execution_count": 8,
   "metadata": {},
   "outputs": [],
   "source": [
    "file=open('rf_l10.dat','w')\n",
    "n = len(t)\n",
    "for i in range(n):\n",
    "    file.write(str(t[i]) + ' ' + str(rf_l10[i]) + '\\n');\n",
    "file.close()\n",
    "file=open('rf_l9.dat','w')\n",
    "n = len(t)\n",
    "for i in range(n):\n",
    "    file.write(str(t[i]) + ' ' + str(rf_l9[i]) + '\\n');\n",
    "file.close()\n",
    "file=open('rf_l8.dat','w')\n",
    "n = len(t)\n",
    "for i in range(n):\n",
    "    file.write(str(t[i]) + ' ' + str(rf_l8[i]) + '\\n');\n",
    "file.close()\n",
    "file=open('rf_l7.dat','w')\n",
    "n = len(t)\n",
    "for i in range(n):\n",
    "    file.write(str(t[i]) + ' ' + str(rf_l7[i]) + '\\n');\n",
    "file.close()\n",
    "file=open('rf_l6.dat','w')\n",
    "n = len(t)\n",
    "for i in range(n):\n",
    "    file.write(str(t[i]) + ' ' + str(rf_l6[i]) + '\\n');\n",
    "file.close()\n",
    "file=open('rf_l5.dat','w')\n",
    "n = len(t)\n",
    "for i in range(n):\n",
    "    file.write(str(t[i]) + ' ' + str(rf_l5[i]) + '\\n');\n",
    "file.close()"
   ]
  },
  {
   "cell_type": "code",
   "execution_count": null,
   "metadata": {},
   "outputs": [],
   "source": []
  }
 ],
 "metadata": {
  "kernelspec": {
   "display_name": "Python 3",
   "language": "python",
   "name": "python3"
  },
  "language_info": {
   "codemirror_mode": {
    "name": "ipython",
    "version": 3
   },
   "file_extension": ".py",
   "mimetype": "text/x-python",
   "name": "python",
   "nbconvert_exporter": "python",
   "pygments_lexer": "ipython3",
   "version": "3.7.4"
  }
 },
 "nbformat": 4,
 "nbformat_minor": 2
}
